{
 "cells": [
  {
   "cell_type": "markdown",
   "id": "c5574e2a",
   "metadata": {},
   "source": [
    "# break,\n",
    "# continue\n",
    "# pass\n",
    "# while True "
   ]
  },
  {
   "cell_type": "code",
   "execution_count": 1,
   "id": "c6867a7f",
   "metadata": {},
   "outputs": [
    {
     "name": "stdout",
     "output_type": "stream",
     "text": [
      "1\n",
      "2\n",
      "3\n",
      "4\n"
     ]
    }
   ],
   "source": [
    "# break\n",
    "\n",
    "my_list = [1,2,3,4,5,6,7,8]\n",
    "for elements in my_list:\n",
    "    print(elements)\n",
    "    if elements ==4:\n",
    "        break"
   ]
  },
  {
   "cell_type": "code",
   "execution_count": 2,
   "id": "ab66efbc",
   "metadata": {},
   "outputs": [
    {
     "name": "stdout",
     "output_type": "stream",
     "text": [
      "0\n"
     ]
    }
   ],
   "source": [
    "a =3\n",
    "a -=3\n",
    "print(a)"
   ]
  },
  {
   "cell_type": "code",
   "execution_count": 3,
   "id": "9d64f8af",
   "metadata": {},
   "outputs": [
    {
     "name": "stdout",
     "output_type": "stream",
     "text": [
      "6\n"
     ]
    }
   ],
   "source": [
    "a =3\n",
    "a +=3\n",
    "print(a)"
   ]
  },
  {
   "cell_type": "code",
   "execution_count": 4,
   "id": "00374f53",
   "metadata": {},
   "outputs": [
    {
     "name": "stdout",
     "output_type": "stream",
     "text": [
      "1\n",
      "2\n",
      "3\n",
      "4\n"
     ]
    }
   ],
   "source": [
    "i = 0\n",
    "while True:\n",
    "    print(my_list[i])\n",
    "    if my_list[i] == 4:\n",
    "        break\n",
    "    i +=1"
   ]
  },
  {
   "cell_type": "code",
   "execution_count": 9,
   "id": "9bc79953",
   "metadata": {},
   "outputs": [
    {
     "name": "stdout",
     "output_type": "stream",
     "text": [
      "{'Joyce': 4, 'Joseph': 1, 'Mary': 3, 'Etim': 5}\n"
     ]
    }
   ],
   "source": [
    "my_dict = {}\n",
    "my_dict['Joyce'] = 4\n",
    "my_dict['Joseph'] = 1\n",
    "my_dict['Mary'] = 3\n",
    "my_dict['Etim'] = 5\n",
    "print(my_dict)"
   ]
  },
  {
   "cell_type": "code",
   "execution_count": 10,
   "id": "02222fed",
   "metadata": {},
   "outputs": [
    {
     "data": {
      "text/plain": [
       "(dict_keys(['Joyce', 'Joseph', 'Mary', 'Etim']), dict_values([4, 1, 3, 5]))"
      ]
     },
     "execution_count": 10,
     "metadata": {},
     "output_type": "execute_result"
    }
   ],
   "source": [
    "my_dict.keys(), my_dict.values()"
   ]
  },
  {
   "cell_type": "code",
   "execution_count": 11,
   "id": "fee7ae02",
   "metadata": {},
   "outputs": [
    {
     "data": {
      "text/plain": [
       "4"
      ]
     },
     "execution_count": 11,
     "metadata": {},
     "output_type": "execute_result"
    }
   ],
   "source": [
    "# len() function\n",
    "\n",
    "len(my_dict)"
   ]
  },
  {
   "cell_type": "code",
   "execution_count": 27,
   "id": "3982b448",
   "metadata": {},
   "outputs": [
    {
     "name": "stdout",
     "output_type": "stream",
     "text": [
      "enter your name: Joyce\n",
      "enter your score: 6\n",
      "enter your name: Joseph\n",
      "enter your score: 2\n",
      "enter your name: Mary\n",
      "enter your score: 5\n",
      "enter your name: Etim\n",
      "enter your score: 3\n",
      "enter your name: Atim\n",
      "enter your score: 100\n"
     ]
    }
   ],
   "source": [
    "new_dict = {}\n",
    "while True:\n",
    "    name = input(\"enter your name: \")\n",
    "    score = int(input(\"enter your score: \"))\n",
    "    new_dict[name] = score\n",
    "    if len(new_dict) == 5:\n",
    "        break\n"
   ]
  },
  {
   "cell_type": "code",
   "execution_count": 28,
   "id": "a5febc9e",
   "metadata": {},
   "outputs": [
    {
     "data": {
      "text/plain": [
       "{'Joyce': 6, 'Joseph': 2, 'Mary': 5, 'Etim': 3, 'Atim': 100}"
      ]
     },
     "execution_count": 28,
     "metadata": {},
     "output_type": "execute_result"
    }
   ],
   "source": [
    "new_dict"
   ]
  },
  {
   "cell_type": "code",
   "execution_count": 29,
   "id": "e26a019c",
   "metadata": {},
   "outputs": [
    {
     "name": "stdout",
     "output_type": "stream",
     "text": [
      "0\n",
      "1\n",
      "2\n",
      "3\n",
      "4\n",
      "5\n",
      "6\n",
      "8\n",
      "9\n"
     ]
    }
   ],
   "source": [
    "# Continue\n",
    "\n",
    "for i in range(10):\n",
    "    if i ==7:\n",
    "        continue\n",
    "    print(i)"
   ]
  },
  {
   "cell_type": "code",
   "execution_count": 30,
   "id": "138a3fae",
   "metadata": {},
   "outputs": [],
   "source": [
    "if new_dict['Joyce'] == 32:\n",
    "    print('hi')"
   ]
  },
  {
   "cell_type": "code",
   "execution_count": 31,
   "id": "128070e9",
   "metadata": {},
   "outputs": [
    {
     "name": "stdout",
     "output_type": "stream",
     "text": [
      "hello\n"
     ]
    }
   ],
   "source": [
    "if new_dict['Joyce'] == 32:\n",
    "    print('hi')\n",
    "else:\n",
    "    print('hello')"
   ]
  },
  {
   "cell_type": "code",
   "execution_count": 32,
   "id": "aa19afa5",
   "metadata": {
    "scrolled": true
   },
   "outputs": [
    {
     "name": "stdout",
     "output_type": "stream",
     "text": [
      "hi\n"
     ]
    }
   ],
   "source": [
    "new_dict = {\"Joyce\":12}\n",
    "if new_dict['Joyce'] > 1:\n",
    "    print(\"hi\")"
   ]
  },
  {
   "cell_type": "code",
   "execution_count": 44,
   "id": "28ef94c1",
   "metadata": {
    "scrolled": true
   },
   "outputs": [
    {
     "name": "stdout",
     "output_type": "stream",
     "text": [
      "Hello welcome to the programme\n",
      "Enter 'Yes' to continue: yes\n",
      "Enter Your Age: 2\n",
      "your ticket is free\n",
      "Hello welcome to the programme\n",
      "Enter 'Yes' to continue: yes\n",
      "Enter Your Age: 10\n",
      "your ticket is $10\n",
      "Hello welcome to the programme\n",
      "Enter 'Yes' to continue: yes\n",
      "Enter Your Age: 15\n",
      "your ticket is $15\n"
     ]
    }
   ],
   "source": [
    "# A program for MOVIE TICKET\n",
    "# if age <3, ticket is free\n",
    "#if age is btw 3 & 12, ticket is $10\n",
    "# if the age is above 12, ticket is $15\n",
    "\n",
    "count = 0\n",
    "while True:\n",
    "    choice = input(\"Hello welcome to the programme\\nEnter 'Yes' to continue: \")\n",
    "    if choice == \"no\":\n",
    "        break\n",
    "    elif choice.lower() == 'yes':\n",
    "        age = int(input(\"Enter Your Age: \"))\n",
    "    if age < 3:\n",
    "        print(\"your ticket is free\")\n",
    "    elif (age >3) & (age <12):\n",
    "        print(\"your ticket is $10\")\n",
    "    elif age >12:\n",
    "        print(\"your ticket is $15\")\n",
    "    count +=1\n",
    "    if count == 3:\n",
    "        break"
   ]
  },
  {
   "cell_type": "code",
   "execution_count": 45,
   "id": "58600e9f",
   "metadata": {},
   "outputs": [
    {
     "name": "stdout",
     "output_type": "stream",
     "text": [
      "iterations : 0\n",
      "the new x:  1\n",
      "iterations : 1\n",
      "iterations : 2\n",
      "the new x:  3\n",
      "iterations : 3\n",
      "the new x:  4\n",
      "iterations : 4\n",
      "the new x:  5\n"
     ]
    }
   ],
   "source": [
    "x = 0\n",
    "for i in range(10):\n",
    "    print(\"iterations :\",i)\n",
    "    x +=1\n",
    "    if x ==2:\n",
    "        continue\n",
    "    print(\"the new x: \", x)\n",
    "    if x ==5:\n",
    "        break"
   ]
  },
  {
   "cell_type": "code",
   "execution_count": 46,
   "id": "435fa961",
   "metadata": {},
   "outputs": [
    {
     "name": "stdout",
     "output_type": "stream",
     "text": [
      "the new x values is:  5\n"
     ]
    }
   ],
   "source": [
    "print(\"the new x values is: \", x)"
   ]
  },
  {
   "cell_type": "code",
   "execution_count": 79,
   "id": "e0216b05",
   "metadata": {},
   "outputs": [
    {
     "name": "stdout",
     "output_type": "stream",
     "text": [
      "enter your choice: pizaa\n",
      "['pizaa']\n",
      "enter your choice: burger\n",
      "['pizaa', 'burger']\n",
      "enter your choice: pie\n",
      "['pizaa', 'burger', 'pie']\n",
      "enter your choice: eggroll\n",
      "['pizaa', 'burger', 'pie', 'eggroll']\n",
      "enter your choice: puffpuff\n",
      "['pizaa', 'burger', 'pie', 'eggroll', 'puffpuff']\n",
      "enter your choice: meatpie\n",
      "['pizaa', 'burger', 'pie', 'eggroll', 'puffpuff', 'meatpie']\n",
      "enter your choice: quit\n"
     ]
    }
   ],
   "source": [
    "piz = []\n",
    "while True:\n",
    "    pizaa = input('enter your choice: ')\n",
    "    if pizaa == \"quit\":\n",
    "        break\n",
    "    else:\n",
    "        piz.append(pizaa)\n",
    "    print(piz)"
   ]
  },
  {
   "cell_type": "code",
   "execution_count": 80,
   "id": "39fbec82",
   "metadata": {},
   "outputs": [
    {
     "data": {
      "text/plain": [
       "['pizaa', 'burger', 'pie', 'eggroll', 'puffpuff', 'meatpie']"
      ]
     },
     "execution_count": 80,
     "metadata": {},
     "output_type": "execute_result"
    }
   ],
   "source": [
    "piz"
   ]
  },
  {
   "cell_type": "code",
   "execution_count": 50,
   "id": "60cbc768",
   "metadata": {},
   "outputs": [
    {
     "data": {
      "text/plain": [
       "5"
      ]
     },
     "execution_count": 50,
     "metadata": {},
     "output_type": "execute_result"
    }
   ],
   "source": [
    "def add(x, y):\n",
    "    \"\"\"this programme takes inn two numbers\n",
    "    and compute/return the sum\n",
    "    \"\"\"\n",
    "    return x+y\n",
    "add(2,3)"
   ]
  },
  {
   "cell_type": "code",
   "execution_count": 84,
   "id": "5197e859",
   "metadata": {},
   "outputs": [
    {
     "data": {
      "text/plain": [
       "2"
      ]
     },
     "execution_count": 84,
     "metadata": {},
     "output_type": "execute_result"
    }
   ],
   "source": [
    "def name():\n",
    "# print( '2')\n",
    "    return 2\n",
    "name()"
   ]
  },
  {
   "cell_type": "code",
   "execution_count": 52,
   "id": "f3069037",
   "metadata": {
    "scrolled": true
   },
   "outputs": [
    {
     "name": "stdout",
     "output_type": "stream",
     "text": [
      "what fruit do you like best: burberry\n",
      "you like burberry\n"
     ]
    }
   ],
   "source": [
    "# For fruits\n",
    "fav_fruit = ['orange', 'pineapple', 'burberry', 'mango','pea']\n",
    "fruit = input(\"what fruit do you like best: \")\n",
    "# conditions\n",
    "if fav_fruit[0] == fruit:\n",
    "    print(f\"you like {fruit}\")\n",
    "elif fav_fruit[1] == fruit:\n",
    "    print(f\"you like {fruit}\")\n",
    "elif fav_fruit[2] == fruit:\n",
    "    print(f\"you like {fruit}\")\n",
    "elif fav_fruit[3] == fruit:\n",
    "    print(f\"you like {fruit}\")\n",
    "elif fav_fruit[4] == fruit:\n",
    "    print(f\"you like {fruit}\")\n",
    "else:\n",
    "    print(\"thanks for using our program\")"
   ]
  },
  {
   "cell_type": "code",
   "execution_count": 54,
   "id": "7f610363",
   "metadata": {},
   "outputs": [
    {
     "name": "stdout",
     "output_type": "stream",
     "text": [
      "Enter the gadget you like best: monitor\n",
      "thanks for using our program\n"
     ]
    }
   ],
   "source": [
    "# For gadgets\n",
    "fav_gadgets = ['phone', 'mifi', 'router', 'pc', '']\n",
    "gadget = input(\"Enter the gadget you like best: \")\n",
    "# conditions\n",
    "if fav_gadgets[0] == gadget:\n",
    "    print(f\"you like {gadget}\")\n",
    "elif fav_gadgets[1] == gadget:\n",
    "    print(f\"you like {gadget}\")\n",
    "elif fav_gadgets[2] == gadget:\n",
    "    print(f\"you like {gadget}\")\n",
    "elif fav_gadgets[3] == gadget:\n",
    "    print(f\"you like {gadget}\")\n",
    "elif fav_gadgets[4] == gadget:\n",
    "    print(f\"you like {gadget}\")\n",
    "else:\n",
    "    print(\"thanks for using our program\")"
   ]
  },
  {
   "cell_type": "code",
   "execution_count": 57,
   "id": "3b6203ac",
   "metadata": {},
   "outputs": [
    {
     "name": "stdout",
     "output_type": "stream",
     "text": [
      "what fruit do you like best: pea\n",
      "you like pea\n"
     ]
    }
   ],
   "source": [
    "fav_fruits = ['strawberry', 'pineapple', 'burberry', 'mango','pea']\n",
    "fruit = input(\"what fruit do you like best: \")\n",
    "for i in fav_fruits:\n",
    "    if i == fruit:\n",
    "        print(f\"you like {fruit}\")"
   ]
  },
  {
   "cell_type": "code",
   "execution_count": 58,
   "id": "dd71d67e",
   "metadata": {},
   "outputs": [
    {
     "data": {
      "text/plain": [
       "{'NN': [23, 45, 67],\n",
       " 'UA': [12, 23, 1],\n",
       " 'QW': [29, 9, 12],\n",
       " 'TR': [23, 54, 13],\n",
       " 'UE': [56, 23, 19]}"
      ]
     },
     "execution_count": 58,
     "metadata": {},
     "output_type": "execute_result"
    }
   ],
   "source": [
    "country_dict = {\n",
    "    'NN':[23,45,67],\n",
    "    'UA':[12,23,1],\n",
    "    'QW':[29,9,12],\n",
    "    'TR':[23,54,13],\n",
    "    'UE':[56,23,19]\n",
    "}\n",
    "country_dict"
   ]
  },
  {
   "cell_type": "code",
   "execution_count": 62,
   "id": "09c41e52",
   "metadata": {},
   "outputs": [
    {
     "data": {
      "text/plain": [
       "dict_values([[23, 45, 67], [12, 23, 1], [29, 9, 12], [23, 54, 13], [56, 23, 19]])"
      ]
     },
     "execution_count": 62,
     "metadata": {},
     "output_type": "execute_result"
    }
   ],
   "source": [
    "country_dict.values()"
   ]
  },
  {
   "cell_type": "code",
   "execution_count": 63,
   "id": "a4e130be",
   "metadata": {},
   "outputs": [
    {
     "data": {
      "text/plain": [
       "dict_keys(['NN', 'UA', 'QW', 'TR', 'UE'])"
      ]
     },
     "execution_count": 63,
     "metadata": {},
     "output_type": "execute_result"
    }
   ],
   "source": [
    "country_dict.keys()"
   ]
  },
  {
   "cell_type": "code",
   "execution_count": 64,
   "id": "e0bd2d00",
   "metadata": {},
   "outputs": [],
   "source": [
    "import pandas as pd\n",
    "country = pd.DataFrame(country_dict)"
   ]
  },
  {
   "cell_type": "code",
   "execution_count": 65,
   "id": "bd98a048",
   "metadata": {},
   "outputs": [
    {
     "data": {
      "text/html": [
       "<div>\n",
       "<style scoped>\n",
       "    .dataframe tbody tr th:only-of-type {\n",
       "        vertical-align: middle;\n",
       "    }\n",
       "\n",
       "    .dataframe tbody tr th {\n",
       "        vertical-align: top;\n",
       "    }\n",
       "\n",
       "    .dataframe thead th {\n",
       "        text-align: right;\n",
       "    }\n",
       "</style>\n",
       "<table border=\"1\" class=\"dataframe\">\n",
       "  <thead>\n",
       "    <tr style=\"text-align: right;\">\n",
       "      <th></th>\n",
       "      <th>NN</th>\n",
       "      <th>UA</th>\n",
       "      <th>QW</th>\n",
       "      <th>TR</th>\n",
       "      <th>UE</th>\n",
       "    </tr>\n",
       "  </thead>\n",
       "  <tbody>\n",
       "    <tr>\n",
       "      <th>0</th>\n",
       "      <td>23</td>\n",
       "      <td>12</td>\n",
       "      <td>29</td>\n",
       "      <td>23</td>\n",
       "      <td>56</td>\n",
       "    </tr>\n",
       "    <tr>\n",
       "      <th>1</th>\n",
       "      <td>45</td>\n",
       "      <td>23</td>\n",
       "      <td>9</td>\n",
       "      <td>54</td>\n",
       "      <td>23</td>\n",
       "    </tr>\n",
       "    <tr>\n",
       "      <th>2</th>\n",
       "      <td>67</td>\n",
       "      <td>1</td>\n",
       "      <td>12</td>\n",
       "      <td>13</td>\n",
       "      <td>19</td>\n",
       "    </tr>\n",
       "  </tbody>\n",
       "</table>\n",
       "</div>"
      ],
      "text/plain": [
       "   NN  UA  QW  TR  UE\n",
       "0  23  12  29  23  56\n",
       "1  45  23   9  54  23\n",
       "2  67   1  12  13  19"
      ]
     },
     "execution_count": 65,
     "metadata": {},
     "output_type": "execute_result"
    }
   ],
   "source": [
    "country.head()"
   ]
  },
  {
   "cell_type": "code",
   "execution_count": 60,
   "id": "4ec71553",
   "metadata": {},
   "outputs": [
    {
     "name": "stdout",
     "output_type": "stream",
     "text": [
      "enter your score: 40\n",
      "you got it wrong.\n"
     ]
    }
   ],
   "source": [
    "record = {\"Joyce\": 23,\n",
    "        \"blessing\": 27,\n",
    "        \"joe\": 56}\n",
    "val = int(input(\"enter your score: \"))\n",
    "if val == record['joe']:\n",
    "    print(\"yes you got it correct.\")\n",
    "else:\n",
    "    print(\"you got it wrong.\")"
   ]
  },
  {
   "cell_type": "code",
   "execution_count": 61,
   "id": "f4def4ec",
   "metadata": {},
   "outputs": [
    {
     "name": "stdout",
     "output_type": "stream",
     "text": [
      "enter your name: Joyce\n",
      "enter your score: 23\n",
      "the name is on our record.\n"
     ]
    }
   ],
   "source": [
    "record = {\"Joyce\": 23,\n",
    "        \"Blessing\": 27,\n",
    "        \"John\": 56}\n",
    "name = input(\"enter your name: \")\n",
    "score = int(input(\"enter your score: \"))\n",
    "if score == record[name]:\n",
    "    print(\"the name is on our record.\")"
   ]
  },
  {
   "cell_type": "code",
   "execution_count": 66,
   "id": "1f83cc00",
   "metadata": {},
   "outputs": [],
   "source": [
    "class Person:\n",
    "    def __init__(self, name, age):\n",
    "        \"\"\"this is a sample programm to illustrate class\"\"\"\n",
    "        self.name = name\n",
    "        self.age = age\n",
    "    def nme(self):\n",
    "        print(\"Hello my name is \" + self.name)"
   ]
  },
  {
   "cell_type": "code",
   "execution_count": 68,
   "id": "57bce420",
   "metadata": {},
   "outputs": [],
   "source": [
    "instance_OTC = Person(\"Joyce\", 36)"
   ]
  },
  {
   "cell_type": "code",
   "execution_count": 69,
   "id": "a299f2bd",
   "metadata": {},
   "outputs": [
    {
     "data": {
      "text/plain": [
       "36"
      ]
     },
     "execution_count": 69,
     "metadata": {},
     "output_type": "execute_result"
    }
   ],
   "source": [
    "instance_OTC.age"
   ]
  },
  {
   "cell_type": "code",
   "execution_count": 72,
   "id": "98337bcb",
   "metadata": {},
   "outputs": [],
   "source": [
    "class class_name:\n",
    "    def __init__(self, name, age, height):\n",
    "        self.name = name\n",
    "        self.age = age\n",
    "        self.height = height"
   ]
  },
  {
   "cell_type": "code",
   "execution_count": 73,
   "id": "283d9a90",
   "metadata": {},
   "outputs": [],
   "source": [
    "obj = class_name('Joyce', 12, 6)"
   ]
  },
  {
   "cell_type": "code",
   "execution_count": 74,
   "id": "a0da5fb1",
   "metadata": {},
   "outputs": [
    {
     "data": {
      "text/plain": [
       "'Joyce'"
      ]
     },
     "execution_count": 74,
     "metadata": {},
     "output_type": "execute_result"
    }
   ],
   "source": [
    "obj.name"
   ]
  },
  {
   "cell_type": "code",
   "execution_count": 75,
   "id": "5b167fad",
   "metadata": {
    "scrolled": false
   },
   "outputs": [
    {
     "name": "stdout",
     "output_type": "stream",
     "text": [
      "welcome miss Joyce\n"
     ]
    }
   ],
   "source": [
    "name = 'Joyce'\n",
    "print('welcome miss', name)"
   ]
  },
  {
   "cell_type": "code",
   "execution_count": 76,
   "id": "9df74a2b",
   "metadata": {},
   "outputs": [
    {
     "name": "stdout",
     "output_type": "stream",
     "text": [
      "Enter your name: Joyce\n",
      "welcome miss Joyce\n"
     ]
    }
   ],
   "source": [
    "name = input(\"Enter your name: \")\n",
    "print('welcome miss', name)"
   ]
  },
  {
   "cell_type": "code",
   "execution_count": 77,
   "id": "1112070b",
   "metadata": {},
   "outputs": [
    {
     "name": "stdout",
     "output_type": "stream",
     "text": [
      "welcome: Joyce\n"
     ]
    }
   ],
   "source": [
    "print(f\"welcome: {name}\")"
   ]
  },
  {
   "cell_type": "code",
   "execution_count": 81,
   "id": "f700f6ff",
   "metadata": {},
   "outputs": [
    {
     "name": "stdout",
     "output_type": "stream",
     "text": [
      "hello Joyce,4, 6\n"
     ]
    }
   ],
   "source": [
    "name = 'Joyce'\n",
    "score = 4\n",
    "height = '6'\n",
    "print('hello {},{}, {}'.format(name, score, height))"
   ]
  },
  {
   "cell_type": "code",
   "execution_count": 86,
   "id": "fa5f480f",
   "metadata": {},
   "outputs": [
    {
     "name": "stdout",
     "output_type": "stream",
     "text": [
      "enter your name: Blessing\n"
     ]
    }
   ],
   "source": [
    "name2 = input('enter your name: ')\n",
    "if name2 == 'yes':\n",
    "    print(name()*4)"
   ]
  },
  {
   "cell_type": "code",
   "execution_count": 87,
   "id": "ed9e520b",
   "metadata": {},
   "outputs": [
    {
     "name": "stdout",
     "output_type": "stream",
     "text": [
      "enter your name: yes\n",
      "8\n"
     ]
    }
   ],
   "source": [
    "name2 = input('enter your name: ')\n",
    "if name2 == 'yes':\n",
    "    print(name()*4)"
   ]
  },
  {
   "cell_type": "code",
   "execution_count": null,
   "id": "43cbc400",
   "metadata": {},
   "outputs": [],
   "source": []
  }
 ],
 "metadata": {
  "kernelspec": {
   "display_name": "Python 3 (ipykernel)",
   "language": "python",
   "name": "python3"
  },
  "language_info": {
   "codemirror_mode": {
    "name": "ipython",
    "version": 3
   },
   "file_extension": ".py",
   "mimetype": "text/x-python",
   "name": "python",
   "nbconvert_exporter": "python",
   "pygments_lexer": "ipython3",
   "version": "3.11.4"
  }
 },
 "nbformat": 4,
 "nbformat_minor": 5
}
