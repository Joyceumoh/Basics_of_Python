{
 "cells": [
  {
   "cell_type": "markdown",
   "id": "fb523d76",
   "metadata": {},
   "source": [
    "# DICTIONARY\n",
    "# ASSIGNMENT\n",
    "# LOOPS\n",
    "# CONDITIONAL STATEMENTS\n",
    "# FUNCTIONS"
   ]
  },
  {
   "cell_type": "markdown",
   "id": "dbea4b9d",
   "metadata": {},
   "source": [
    "# Dictionary"
   ]
  },
  {
   "cell_type": "code",
   "execution_count": 1,
   "id": "edee0769",
   "metadata": {},
   "outputs": [
    {
     "name": "stdout",
     "output_type": "stream",
     "text": [
      "{'name': 'Joyce', 'score': 23, 'fruit': 'apple'}\n"
     ]
    }
   ],
   "source": [
    "dict_1 = {'name':'Joyce', 'score': 23, 'fruit': \"apple\"}\n",
    "print(dict_1)"
   ]
  },
  {
   "cell_type": "code",
   "execution_count": 4,
   "id": "193117ca",
   "metadata": {},
   "outputs": [
    {
     "data": {
      "text/plain": [
       "{'score': [1, 2, 4, 5], 'name': ['Joyce', 'you', 'I', 'them']}"
      ]
     },
     "execution_count": 4,
     "metadata": {},
     "output_type": "execute_result"
    }
   ],
   "source": [
    "data = {'score' : [1,2,4,5], 'name' : ['Joyce', 'you', 'I', 'them']}\n",
    "data"
   ]
  },
  {
   "cell_type": "code",
   "execution_count": 2,
   "id": "710e73ca",
   "metadata": {
    "scrolled": true
   },
   "outputs": [
    {
     "data": {
      "text/plain": [
       "{'name': ['caleb', 'you', 'I', 'them'], 'score': [1, 2, 3, 4]}"
      ]
     },
     "execution_count": 2,
     "metadata": {},
     "output_type": "execute_result"
    }
   ],
   "source": [
    "name = ['caleb', 'you', 'I', 'them']\n",
    "score = [1,2,3,4]\n",
    "data = {'name' : name, 'score' : score}\n",
    "data"
   ]
  },
  {
   "cell_type": "code",
   "execution_count": 5,
   "id": "1dcd2198",
   "metadata": {},
   "outputs": [
    {
     "data": {
      "text/plain": [
       "dict"
      ]
     },
     "execution_count": 5,
     "metadata": {},
     "output_type": "execute_result"
    }
   ],
   "source": [
    "# creating a dictionary\n",
    "\n",
    "dict_1={'one':1,'two':2,'three':3,'four':4,'five':5}\n",
    "type(dict_1)"
   ]
  },
  {
   "cell_type": "code",
   "execution_count": 6,
   "id": "af510ddf",
   "metadata": {},
   "outputs": [],
   "source": [
    "dict_2={\"name\" : ['a','b','c','d','e','f'], \"score\" : [1,2,3,4,5,6]}"
   ]
  },
  {
   "cell_type": "code",
   "execution_count": 9,
   "id": "79f4c8c8",
   "metadata": {},
   "outputs": [
    {
     "data": {
      "text/plain": [
       "dict_keys(['name', 'score'])"
      ]
     },
     "execution_count": 9,
     "metadata": {},
     "output_type": "execute_result"
    }
   ],
   "source": [
    "dict_2.keys()"
   ]
  },
  {
   "cell_type": "code",
   "execution_count": 10,
   "id": "fa6cd0a8",
   "metadata": {},
   "outputs": [
    {
     "data": {
      "text/plain": [
       "dict_values([['a', 'b', 'c', 'd', 'e', 'f'], [1, 2, 3, 4, 5, 6]])"
      ]
     },
     "execution_count": 10,
     "metadata": {},
     "output_type": "execute_result"
    }
   ],
   "source": [
    "dict_2.values()"
   ]
  },
  {
   "cell_type": "code",
   "execution_count": 11,
   "id": "768fc2c6",
   "metadata": {},
   "outputs": [
    {
     "data": {
      "text/plain": [
       "3"
      ]
     },
     "execution_count": 11,
     "metadata": {},
     "output_type": "execute_result"
    }
   ],
   "source": [
    "# using 'pop' to remove a specified item from a dictionary\n",
    "\n",
    "dict_1.pop('three')"
   ]
  },
  {
   "cell_type": "code",
   "execution_count": 12,
   "id": "37d53531",
   "metadata": {},
   "outputs": [
    {
     "data": {
      "text/plain": [
       "{'one': 1, 'two': 2, 'four': 4, 'five': 5}"
      ]
     },
     "execution_count": 12,
     "metadata": {},
     "output_type": "execute_result"
    }
   ],
   "source": [
    "dict_1"
   ]
  },
  {
   "cell_type": "code",
   "execution_count": 13,
   "id": "f4843f13",
   "metadata": {},
   "outputs": [
    {
     "data": {
      "text/plain": [
       "('five', 5)"
      ]
     },
     "execution_count": 13,
     "metadata": {},
     "output_type": "execute_result"
    }
   ],
   "source": [
    "# using 'popitem' to remove the last element on a list\n",
    "\n",
    "dict_1.popitem()"
   ]
  },
  {
   "cell_type": "code",
   "execution_count": 15,
   "id": "005ddc1a",
   "metadata": {},
   "outputs": [
    {
     "data": {
      "text/plain": [
       "{'name': ['a', 'b', 'c', 'd', 'e', 'f'], 'score': [1, 2, 3, 4, 5, 6]}"
      ]
     },
     "execution_count": 15,
     "metadata": {},
     "output_type": "execute_result"
    }
   ],
   "source": [
    "dict_2"
   ]
  },
  {
   "cell_type": "code",
   "execution_count": 19,
   "id": "5bfcd48a",
   "metadata": {},
   "outputs": [
    {
     "data": {
      "text/plain": [
       "{'one': 1, 'two': 2, 'four': 4}"
      ]
     },
     "execution_count": 19,
     "metadata": {},
     "output_type": "execute_result"
    }
   ],
   "source": [
    "dict_2 = dict_1.copy()\n",
    "dict_2"
   ]
  },
  {
   "cell_type": "markdown",
   "id": "0e772d8d",
   "metadata": {},
   "source": [
    "# Assignment"
   ]
  },
  {
   "cell_type": "code",
   "execution_count": 23,
   "id": "4392abf3",
   "metadata": {},
   "outputs": [],
   "source": [
    "list_2=[1,2,3,4,5,6,7,8,9,10]"
   ]
  },
  {
   "cell_type": "code",
   "execution_count": 24,
   "id": "abf9f773",
   "metadata": {},
   "outputs": [],
   "source": [
    "list_10=[10,9,8,7,6,5,4,3,2,1]"
   ]
  },
  {
   "cell_type": "code",
   "execution_count": 25,
   "id": "a5f92dbb",
   "metadata": {},
   "outputs": [],
   "source": [
    "d1=zip(list_2,list_10)\n",
    "# d1 = dict(d1)\n",
    "# d1"
   ]
  },
  {
   "cell_type": "code",
   "execution_count": 26,
   "id": "7222702d",
   "metadata": {},
   "outputs": [
    {
     "name": "stdout",
     "output_type": "stream",
     "text": [
      "{1: 10, 2: 9, 3: 8, 4: 7, 5: 6, 6: 5, 7: 4, 8: 3, 9: 2, 10: 1}\n"
     ]
    }
   ],
   "source": [
    "print(dict(d1))"
   ]
  },
  {
   "cell_type": "code",
   "execution_count": 28,
   "id": "ecd2d093",
   "metadata": {},
   "outputs": [],
   "source": [
    "dict_4={1:2,3:4,5:6,7:8}\n",
    "dict_5={2:1,3:2,4:3,5:4}"
   ]
  },
  {
   "cell_type": "code",
   "execution_count": 29,
   "id": "bb5cdfb7",
   "metadata": {},
   "outputs": [],
   "source": [
    "dict_4.update((dict_5))"
   ]
  },
  {
   "cell_type": "code",
   "execution_count": 30,
   "id": "892ea5f5",
   "metadata": {},
   "outputs": [
    {
     "data": {
      "text/plain": [
       "{1: 2, 3: 2, 5: 4, 7: 8, 2: 1, 4: 3}"
      ]
     },
     "execution_count": 30,
     "metadata": {},
     "output_type": "execute_result"
    }
   ],
   "source": [
    "dict_4"
   ]
  },
  {
   "cell_type": "code",
   "execution_count": 31,
   "id": "ebf2c25e",
   "metadata": {},
   "outputs": [
    {
     "data": {
      "text/plain": [
       "{'history': 'my life story', 'Status': 'Single', 'Hub': 'EOA'}"
      ]
     },
     "execution_count": 31,
     "metadata": {},
     "output_type": "execute_result"
    }
   ],
   "source": [
    "dict_5={'history' : 'my life story', 'Status' : 'Single', 'Hub' : 'EOA'}\n",
    "dict_5"
   ]
  },
  {
   "cell_type": "code",
   "execution_count": 32,
   "id": "55c07749",
   "metadata": {},
   "outputs": [
    {
     "data": {
      "text/plain": [
       "dict_values(['my life story', 'Single', 'EOA'])"
      ]
     },
     "execution_count": 32,
     "metadata": {},
     "output_type": "execute_result"
    }
   ],
   "source": [
    "dict_5.values()"
   ]
  },
  {
   "cell_type": "code",
   "execution_count": 33,
   "id": "2bfbb68f",
   "metadata": {},
   "outputs": [
    {
     "name": "stdout",
     "output_type": "stream",
     "text": [
      "my life story\n"
     ]
    }
   ],
   "source": [
    "print(dict_5['history'])"
   ]
  },
  {
   "cell_type": "markdown",
   "id": "ea442000",
   "metadata": {},
   "source": [
    "# Loops"
   ]
  },
  {
   "cell_type": "code",
   "execution_count": 35,
   "id": "a98cd323",
   "metadata": {},
   "outputs": [
    {
     "name": "stdout",
     "output_type": "stream",
     "text": [
      "12\n",
      "6\n",
      "8\n",
      "104\n",
      "42\n",
      "180\n"
     ]
    }
   ],
   "source": [
    "# for loop\n",
    "\n",
    "list_1 = [6,3,4,52,21,90]\n",
    "for number in list_1:\n",
    "    print(number*2)"
   ]
  },
  {
   "cell_type": "code",
   "execution_count": 36,
   "id": "7d410c03",
   "metadata": {
    "scrolled": true
   },
   "outputs": [
    {
     "name": "stdout",
     "output_type": "stream",
     "text": [
      "1\n",
      "2\n",
      "3\n",
      "4\n",
      "5\n",
      "6\n",
      "7\n",
      "8\n",
      "9\n",
      "10\n"
     ]
    }
   ],
   "source": [
    "# creating for loop\n",
    "\n",
    "for i in range(1,11):\n",
    "    print(i)"
   ]
  },
  {
   "cell_type": "code",
   "execution_count": 37,
   "id": "7a15440d",
   "metadata": {
    "scrolled": true
   },
   "outputs": [
    {
     "name": "stdout",
     "output_type": "stream",
     "text": [
      "0\n",
      "1\n",
      "2\n",
      "3\n",
      "4\n",
      "5\n",
      "6\n",
      "7\n",
      "8\n",
      "9\n",
      "10\n"
     ]
    }
   ],
   "source": [
    "for i in range(11):\n",
    "    print(i)"
   ]
  },
  {
   "cell_type": "code",
   "execution_count": 38,
   "id": "1bf1ce02",
   "metadata": {},
   "outputs": [
    {
     "name": "stdout",
     "output_type": "stream",
     "text": [
      "cool 0\n",
      "cool 1\n",
      "cool 2\n",
      "cool 3\n",
      "cool 4\n"
     ]
    }
   ],
   "source": [
    "b=0\n",
    "while b != 5:\n",
    "    print('cool', b)\n",
    "    b+=1"
   ]
  },
  {
   "cell_type": "code",
   "execution_count": 39,
   "id": "6f4896bc",
   "metadata": {},
   "outputs": [
    {
     "name": "stdout",
     "output_type": "stream",
     "text": [
      "40\n",
      "35\n",
      "30\n",
      "25\n",
      "20\n",
      "15\n",
      "10\n"
     ]
    }
   ],
   "source": [
    "b=40\n",
    "while b>8:\n",
    "    print(b)\n",
    "    b-=5"
   ]
  },
  {
   "cell_type": "code",
   "execution_count": 40,
   "id": "4d288d7c",
   "metadata": {},
   "outputs": [
    {
     "name": "stdout",
     "output_type": "stream",
     "text": [
      "1\n",
      "d\n",
      "9\n",
      "0\n",
      "4\n",
      "3\n",
      "1\n"
     ]
    }
   ],
   "source": [
    "l_1 = [1,'d',9,0,4,3,1]\n",
    "for item in l_1:\n",
    "    print(item)"
   ]
  },
  {
   "cell_type": "code",
   "execution_count": 42,
   "id": "b0292237",
   "metadata": {},
   "outputs": [
    {
     "name": "stdout",
     "output_type": "stream",
     "text": [
      "enter a number: 5\n",
      "wrong\n"
     ]
    }
   ],
   "source": [
    "a = int(input(\"enter a number: \"))\n",
    "if a == 4:\n",
    "    print('correct')\n",
    "else:\n",
    "    print(\"wrong\")"
   ]
  },
  {
   "cell_type": "code",
   "execution_count": 44,
   "id": "244caa6d",
   "metadata": {},
   "outputs": [
    {
     "name": "stdout",
     "output_type": "stream",
     "text": [
      "2\n",
      "3\n",
      "5\n",
      "7\n",
      "9\n"
     ]
    }
   ],
   "source": [
    "# using loop in dictionary\n",
    "\n",
    "d2 = {\"one\":2,2:3,4:5,6:7,8:9}\n",
    "for i in d2.values():\n",
    "    print(i)"
   ]
  },
  {
   "cell_type": "code",
   "execution_count": 45,
   "id": "97e86c92",
   "metadata": {},
   "outputs": [
    {
     "name": "stdout",
     "output_type": "stream",
     "text": [
      "one\n",
      "2\n",
      "4\n",
      "6\n",
      "8\n"
     ]
    }
   ],
   "source": [
    "for i in d2.keys():\n",
    "    print(i)"
   ]
  },
  {
   "cell_type": "code",
   "execution_count": 46,
   "id": "51a88aca",
   "metadata": {},
   "outputs": [
    {
     "name": "stdout",
     "output_type": "stream",
     "text": [
      "0\n",
      "1\n",
      "2\n",
      "3\n"
     ]
    }
   ],
   "source": [
    "for i in range(4):\n",
    "    print(i)"
   ]
  },
  {
   "cell_type": "code",
   "execution_count": 47,
   "id": "10a568d5",
   "metadata": {},
   "outputs": [
    {
     "name": "stdout",
     "output_type": "stream",
     "text": [
      "-1\n",
      "0\n",
      "1\n",
      "2\n",
      "3\n"
     ]
    }
   ],
   "source": [
    "my_list=[1,2,3,4,5]\n",
    "for item in my_list:\n",
    "    print(item-2)"
   ]
  },
  {
   "cell_type": "code",
   "execution_count": 48,
   "id": "107f9212",
   "metadata": {},
   "outputs": [
    {
     "name": "stdout",
     "output_type": "stream",
     "text": [
      "100\n",
      "101\n",
      "102\n",
      "103\n",
      "104\n",
      "105\n",
      "106\n",
      "107\n",
      "108\n",
      "109\n",
      "110\n",
      "111\n",
      "112\n",
      "113\n",
      "114\n",
      "115\n",
      "116\n",
      "117\n",
      "118\n",
      "119\n",
      "120\n"
     ]
    }
   ],
   "source": [
    "for i in range(100,121):\n",
    "    print(i)"
   ]
  },
  {
   "cell_type": "code",
   "execution_count": 50,
   "id": "ed7c6c97",
   "metadata": {},
   "outputs": [
    {
     "data": {
      "text/plain": [
       "[1, 2, 3, 4, 5]"
      ]
     },
     "execution_count": 50,
     "metadata": {},
     "output_type": "execute_result"
    }
   ],
   "source": [
    "my_list"
   ]
  },
  {
   "cell_type": "code",
   "execution_count": 52,
   "id": "6015f177",
   "metadata": {
    "scrolled": true
   },
   "outputs": [
    {
     "name": "stdout",
     "output_type": "stream",
     "text": [
      "[3, 4, 5, 6, 7]\n"
     ]
    }
   ],
   "source": [
    "new_list=[]\n",
    "for item in my_list:\n",
    "    new_list.append(item+2)\n",
    "print(new_list)"
   ]
  },
  {
   "cell_type": "code",
   "execution_count": 53,
   "id": "d6c03815",
   "metadata": {},
   "outputs": [
    {
     "name": "stdout",
     "output_type": "stream",
     "text": [
      "[1, 4, 9, 16, 25]\n"
     ]
    }
   ],
   "source": [
    "your_list=[]\n",
    "for item in my_list:\n",
    "    your_list.append(item**2)\n",
    "print(your_list)"
   ]
  },
  {
   "cell_type": "code",
   "execution_count": 54,
   "id": "ede2e3f1",
   "metadata": {},
   "outputs": [
    {
     "name": "stdout",
     "output_type": "stream",
     "text": [
      "[1, 4, 6, 8, 10]\n"
     ]
    }
   ],
   "source": [
    "our_list=[]\n",
    "for item in my_list[0:2]:\n",
    "    our_list.append(item**2)\n",
    "for item in my_list[2:]:\n",
    "    our_list.append(item+item)\n",
    "print(our_list)"
   ]
  },
  {
   "cell_type": "code",
   "execution_count": 55,
   "id": "f821ed06",
   "metadata": {},
   "outputs": [
    {
     "name": "stdout",
     "output_type": "stream",
     "text": [
      "<class 'dict'>\n"
     ]
    }
   ],
   "source": [
    "d4={'one':1,'two':2,'three':3,'four':4,'five':5,'six':6,'seven':7,'eight':8,'nine':9,'ten':10}\n",
    "print(type(d4))"
   ]
  },
  {
   "cell_type": "code",
   "execution_count": 56,
   "id": "1d2b63af",
   "metadata": {},
   "outputs": [
    {
     "name": "stdout",
     "output_type": "stream",
     "text": [
      "['one', 'two', 'three', 'four', 'five', 'six', 'seven', 'eight', 'nine', 'ten']\n"
     ]
    }
   ],
   "source": [
    "f9=[]\n",
    "for item in d4.keys():\n",
    "    f9.append(item)\n",
    "print(f9)"
   ]
  },
  {
   "cell_type": "code",
   "execution_count": 57,
   "id": "5a1c4cb1",
   "metadata": {},
   "outputs": [
    {
     "name": "stdout",
     "output_type": "stream",
     "text": [
      "[1, 2, 3, 4, 5, 6, 7, 8, 9, 10]\n"
     ]
    }
   ],
   "source": [
    "e8=[]\n",
    "for item in d4.values():\n",
    "    e8.append(item)\n",
    "print(e8)"
   ]
  },
  {
   "cell_type": "markdown",
   "id": "728e4d40",
   "metadata": {},
   "source": [
    "# Conditional Statements"
   ]
  },
  {
   "cell_type": "code",
   "execution_count": 1,
   "id": "64777177",
   "metadata": {},
   "outputs": [
    {
     "name": "stdout",
     "output_type": "stream",
     "text": [
      "enter your score: 4\n",
      "try again\n"
     ]
    }
   ],
   "source": [
    "score = int(input(\"enter your score: \"))\n",
    "if (score>=10) and (score==5):\n",
    "    print('good grade')\n",
    "else:\n",
    "    print(\"try again\")"
   ]
  },
  {
   "cell_type": "code",
   "execution_count": 2,
   "id": "c61e2819",
   "metadata": {},
   "outputs": [
    {
     "name": "stdout",
     "output_type": "stream",
     "text": [
      "Enter your age :17\n",
      "sorry you are underage for this class\n"
     ]
    }
   ],
   "source": [
    "age = int(input('Enter your age :'))\n",
    "if (age >= 18) and (age<=24 or age>=31):\n",
    "    print(\"congratulations you've been accepted\")\n",
    "else:\n",
    "    print(\"sorry you are underage for this class\")"
   ]
  },
  {
   "cell_type": "code",
   "execution_count": 3,
   "id": "e4be9b26",
   "metadata": {},
   "outputs": [
    {
     "name": "stdout",
     "output_type": "stream",
     "text": [
      "Input your score: 10\n",
      "Input your score: 13\n",
      "Congrats Blessing you have gotten the scholarship\n"
     ]
    }
   ],
   "source": [
    "Samuel=int(input('Input your score: '))\n",
    "Blessing=int(input('Input your score: '))\n",
    "if Samuel>Blessing:\n",
    "    print(\"Congrats Samuel you have gotten the scholarship\")\n",
    "else:\n",
    "    print(\"Congrats Blessing you have gotten the scholarship\")"
   ]
  },
  {
   "cell_type": "code",
   "execution_count": 5,
   "id": "543f2e39",
   "metadata": {},
   "outputs": [
    {
     "name": "stdout",
     "output_type": "stream",
     "text": [
      "Enter your name: Joyce\n",
      "Input your score: 10\n",
      "\n",
      "your name:Etim\n",
      "Input your score: 7\n",
      "Congrats Joyce you have gotten the scholarship\n"
     ]
    }
   ],
   "source": [
    "first_person = input('Enter your name: ')\n",
    "first_score = int(input('Input your score: '))\n",
    "second_person = input('\\nyour name:' )\n",
    "second_score= int(input('Input your score: '))\n",
    "\n",
    "if first_score>second_score:\n",
    "    print(\"Congrats {} you have gotten the scholarship\".format(first_person))\n",
    "elif first_score == second_score:\n",
    "    print(\"everyone is to retake the test\")\n",
    "else:\n",
    "    print(f\"Congrats {second_person} you have gotten the scholarship\")\n"
   ]
  },
  {
   "cell_type": "code",
   "execution_count": 9,
   "id": "32448041",
   "metadata": {},
   "outputs": [],
   "source": [
    "# using 'functions'\n",
    "\n",
    "def test(first_name, second_name):\n",
    "    first_score = int(input(f\"{first_name}: Enter Your score :\"))\n",
    "    second_score = int(input(f\"{second_name}: Enter your scorre :\"))\n",
    "\n",
    "    if first_score>second_score:\n",
    "        return (\"Congrats {} you have gotten the scholarship\".format(first_name))\n",
    "    elif first_score == second_score:\n",
    "        return (\"everyone is to retake the test\")\n",
    "    else:\n",
    "        return (f\"Congrats {second_name} you have gotten the scholarship\")"
   ]
  },
  {
   "cell_type": "code",
   "execution_count": 10,
   "id": "7c0c2979",
   "metadata": {},
   "outputs": [
    {
     "name": "stdout",
     "output_type": "stream",
     "text": [
      "Joyce: Enter Your score :20\n",
      "joe: Enter your scorre :15\n"
     ]
    },
    {
     "data": {
      "text/plain": [
       "'Congrats Joyce you have gotten the scholarship'"
      ]
     },
     "execution_count": 10,
     "metadata": {},
     "output_type": "execute_result"
    }
   ],
   "source": [
    "test(\"Joyce\", 'joe')"
   ]
  },
  {
   "cell_type": "markdown",
   "id": "a0a173e4",
   "metadata": {},
   "source": [
    "# Functions"
   ]
  },
  {
   "cell_type": "code",
   "execution_count": 11,
   "id": "7832d95d",
   "metadata": {},
   "outputs": [
    {
     "data": {
      "text/plain": [
       "'hello world!'"
      ]
     },
     "execution_count": 11,
     "metadata": {},
     "output_type": "execute_result"
    }
   ],
   "source": [
    "def nam():\n",
    "    return 'hello world!'\n",
    "nam()"
   ]
  },
  {
   "cell_type": "code",
   "execution_count": 12,
   "id": "4a8bb174",
   "metadata": {},
   "outputs": [
    {
     "data": {
      "text/plain": [
       "6"
      ]
     },
     "execution_count": 12,
     "metadata": {},
     "output_type": "execute_result"
    }
   ],
   "source": [
    "def add(x):\n",
    "    return 2+x\n",
    "add(4)"
   ]
  },
  {
   "cell_type": "code",
   "execution_count": 13,
   "id": "96770c8c",
   "metadata": {},
   "outputs": [
    {
     "data": {
      "text/plain": [
       "2.0"
      ]
     },
     "execution_count": 13,
     "metadata": {},
     "output_type": "execute_result"
    }
   ],
   "source": [
    "import math as m\n",
    "m.sqrt(4)"
   ]
  }
 ],
 "metadata": {
  "kernelspec": {
   "display_name": "Python 3 (ipykernel)",
   "language": "python",
   "name": "python3"
  },
  "language_info": {
   "codemirror_mode": {
    "name": "ipython",
    "version": 3
   },
   "file_extension": ".py",
   "mimetype": "text/x-python",
   "name": "python",
   "nbconvert_exporter": "python",
   "pygments_lexer": "ipython3",
   "version": "3.11.4"
  }
 },
 "nbformat": 4,
 "nbformat_minor": 5
}
