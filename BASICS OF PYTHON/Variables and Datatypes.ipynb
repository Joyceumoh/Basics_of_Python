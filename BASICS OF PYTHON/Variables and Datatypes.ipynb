{
 "cells": [
  {
   "cell_type": "code",
   "execution_count": 1,
   "id": "40f8ea68",
   "metadata": {},
   "outputs": [
    {
     "name": "stdout",
     "output_type": "stream",
     "text": [
      "hello world!\n"
     ]
    }
   ],
   "source": [
    "print(\"hello world!\")"
   ]
  },
  {
   "cell_type": "code",
   "execution_count": 3,
   "id": "c366d693",
   "metadata": {},
   "outputs": [
    {
     "name": "stdout",
     "output_type": "stream",
     "text": [
      "Joyce\n"
     ]
    }
   ],
   "source": [
    "number = 3\n",
    "type(number)\n",
    "name = 'Joyce'\n",
    "print(name)"
   ]
  },
  {
   "cell_type": "code",
   "execution_count": 5,
   "id": "b3764b2c",
   "metadata": {},
   "outputs": [
    {
     "name": "stdout",
     "output_type": "stream",
     "text": [
      "3\n"
     ]
    }
   ],
   "source": [
    "number = 3\n",
    "type(number)\n",
    "name = 'Joyce'\n",
    "print(number)"
   ]
  },
  {
   "cell_type": "code",
   "execution_count": 6,
   "id": "9f6a1156",
   "metadata": {},
   "outputs": [
    {
     "name": "stdout",
     "output_type": "stream",
     "text": [
      "<class 'int'>\n"
     ]
    }
   ],
   "source": [
    "print(type(number))"
   ]
  },
  {
   "cell_type": "code",
   "execution_count": 7,
   "id": "a2d3e2a6",
   "metadata": {},
   "outputs": [
    {
     "name": "stdout",
     "output_type": "stream",
     "text": [
      "<class 'str'>\n"
     ]
    }
   ],
   "source": [
    "print(type(name))"
   ]
  },
  {
   "cell_type": "code",
   "execution_count": 8,
   "id": "a31e87c0",
   "metadata": {},
   "outputs": [
    {
     "name": "stdout",
     "output_type": "stream",
     "text": [
      "enter the value: 3\n",
      "enter the second value: 6\n"
     ]
    }
   ],
   "source": [
    "first_number = int(input(\"enter the value: \"))\n",
    "second_number = int(input(\"enter the second value: \"))"
   ]
  },
  {
   "cell_type": "code",
   "execution_count": 9,
   "id": "04db9d4f",
   "metadata": {},
   "outputs": [
    {
     "data": {
      "text/plain": [
       "(3, 6)"
      ]
     },
     "execution_count": 9,
     "metadata": {},
     "output_type": "execute_result"
    }
   ],
   "source": [
    "first_number, second_number"
   ]
  },
  {
   "cell_type": "code",
   "execution_count": 10,
   "id": "2e54713f",
   "metadata": {},
   "outputs": [
    {
     "data": {
      "text/plain": [
       "18"
      ]
     },
     "execution_count": 10,
     "metadata": {},
     "output_type": "execute_result"
    }
   ],
   "source": [
    "first_number * second_number"
   ]
  },
  {
   "cell_type": "code",
   "execution_count": 11,
   "id": "6b4ed9b3",
   "metadata": {},
   "outputs": [
    {
     "name": "stdout",
     "output_type": "stream",
     "text": [
      "the result is: 0.5\n"
     ]
    }
   ],
   "source": [
    "result = first_number/second_number\n",
    "print(\"the result is:\", result)"
   ]
  },
  {
   "cell_type": "code",
   "execution_count": 12,
   "id": "9137b46c",
   "metadata": {},
   "outputs": [
    {
     "name": "stdout",
     "output_type": "stream",
     "text": [
      "enter the number : 5\n"
     ]
    }
   ],
   "source": [
    "type(number)\n",
    "num = int(input(\"enter the number : \"))"
   ]
  },
  {
   "cell_type": "code",
   "execution_count": 13,
   "id": "a08775ef",
   "metadata": {},
   "outputs": [
    {
     "name": "stdout",
     "output_type": "stream",
     "text": [
      "W \bord\n"
     ]
    }
   ],
   "source": [
    "# Using Backspace\n",
    "\n",
    "print(\"W \\bord\")"
   ]
  },
  {
   "cell_type": "code",
   "execution_count": 14,
   "id": "90f952ab",
   "metadata": {},
   "outputs": [
    {
     "data": {
      "text/plain": [
       "float"
      ]
     },
     "execution_count": 14,
     "metadata": {},
     "output_type": "execute_result"
    }
   ],
   "source": [
    "x =2.0\n",
    "type(x)"
   ]
  },
  {
   "cell_type": "code",
   "execution_count": 17,
   "id": "c877b98d",
   "metadata": {},
   "outputs": [
    {
     "name": "stdout",
     "output_type": "stream",
     "text": [
      "the radius is: 2\n",
      "the area of cone is: 35.168\n"
     ]
    }
   ],
   "source": [
    "# Area of a cone( pi, radius, cube slant height)\n",
    "\n",
    "pi=3.14\n",
    "radius=int(input('the radius is: '))\n",
    "slant_height=5.6\n",
    "result=pi*radius*slant_height\n",
    "print('the area of cone is:',result)"
   ]
  },
  {
   "cell_type": "code",
   "execution_count": 18,
   "id": "e7af7ad5",
   "metadata": {},
   "outputs": [
    {
     "name": "stdout",
     "output_type": "stream",
     "text": [
      "the height is2\n",
      "the area of cone is: 25.12\n"
     ]
    }
   ],
   "source": [
    "# Area of a rectangle\n",
    "\n",
    "pi=3.14\n",
    "radius=2**2\n",
    "slant_height=int(input ('the height is'))\n",
    "result=pi*radius*slant_height\n",
    "print('the area of cone is:',result)"
   ]
  },
  {
   "cell_type": "markdown",
   "id": "51eca08c",
   "metadata": {},
   "source": [
    "# LIST"
   ]
  },
  {
   "cell_type": "code",
   "execution_count": 19,
   "id": "8ccc2c17",
   "metadata": {},
   "outputs": [],
   "source": [
    "list_1 = [1,2,3,4,5,6,7,8]\n",
    "list_1.insert(1,5)"
   ]
  },
  {
   "cell_type": "code",
   "execution_count": 20,
   "id": "0b01203e",
   "metadata": {},
   "outputs": [
    {
     "name": "stdout",
     "output_type": "stream",
     "text": [
      "[1, 5, 2, 3, 4, 5, 6, 7, 8]\n"
     ]
    }
   ],
   "source": [
    "print(list_1)"
   ]
  },
  {
   "cell_type": "code",
   "execution_count": 21,
   "id": "fbb0f87b",
   "metadata": {},
   "outputs": [
    {
     "name": "stdout",
     "output_type": "stream",
     "text": [
      "['e', 'm', 'm', 'a', 'n', 'u', 'e', 'l']\n",
      "[1, 2, 3, 4, 5]\n"
     ]
    }
   ],
   "source": [
    "text = 'emmanuel'\n",
    "l2 = list(text)\n",
    "print(l2)\n",
    "# converting string(i.e numbers )to integers\n",
    "num_text = '12345'\n",
    "num_list = [int(x)for x in list(num_text)]\n",
    "print(num_list)"
   ]
  },
  {
   "cell_type": "code",
   "execution_count": 24,
   "id": "36ff0de9",
   "metadata": {},
   "outputs": [],
   "source": [
    "# creating a list\n",
    "list_2 =['b','r','i','g','h','t']"
   ]
  },
  {
   "cell_type": "code",
   "execution_count": 25,
   "id": "faefccf6",
   "metadata": {},
   "outputs": [
    {
     "name": "stdout",
     "output_type": "stream",
     "text": [
      "['b', 'r', 'i', 'g', 'h', 't']\n"
     ]
    }
   ],
   "source": [
    "a= 'bright'\n",
    "list_3 =[a]\n",
    "# printing out the values\n",
    "print(list_2)"
   ]
  },
  {
   "cell_type": "markdown",
   "id": "a783f248",
   "metadata": {},
   "source": [
    "# list operations"
   ]
  },
  {
   "cell_type": "code",
   "execution_count": 26,
   "id": "8aade4d5",
   "metadata": {},
   "outputs": [
    {
     "data": {
      "text/plain": [
       "1"
      ]
     },
     "execution_count": 26,
     "metadata": {},
     "output_type": "execute_result"
    }
   ],
   "source": [
    "# creating a list\n",
    "\n",
    "score = [1,3,5,7,1,7,8]\n",
    "# checking for the minimum value in a list\n",
    "min(score)"
   ]
  },
  {
   "cell_type": "code",
   "execution_count": 27,
   "id": "39cfbf3c",
   "metadata": {},
   "outputs": [
    {
     "data": {
      "text/plain": [
       "8"
      ]
     },
     "execution_count": 27,
     "metadata": {},
     "output_type": "execute_result"
    }
   ],
   "source": [
    "# checking for the maximum values\n",
    "\n",
    "max(score)"
   ]
  },
  {
   "cell_type": "code",
   "execution_count": 29,
   "id": "12dfdeeb",
   "metadata": {},
   "outputs": [
    {
     "name": "stdout",
     "output_type": "stream",
     "text": [
      "[1, 2, 3, 4, 5]\n"
     ]
    }
   ],
   "source": [
    "#creating another list\n",
    "\n",
    "my_list = [1,2,3,4,5]\n",
    "print(my_list)"
   ]
  },
  {
   "cell_type": "code",
   "execution_count": 30,
   "id": "433c97b1",
   "metadata": {},
   "outputs": [
    {
     "name": "stdout",
     "output_type": "stream",
     "text": [
      "[1, 2, 3, 4, 5, 6]\n"
     ]
    }
   ],
   "source": [
    "# using append funtion to add element to the end of the list\n",
    "\n",
    "my_list.append(6)\n",
    "print(my_list)"
   ]
  },
  {
   "cell_type": "code",
   "execution_count": 31,
   "id": "576e2521",
   "metadata": {},
   "outputs": [],
   "source": [
    "# To remove\n",
    "my_list.remove(2)"
   ]
  },
  {
   "cell_type": "code",
   "execution_count": 32,
   "id": "4a0b2448",
   "metadata": {},
   "outputs": [
    {
     "data": {
      "text/plain": [
       "[1, 3, 4, 5, 6]"
      ]
     },
     "execution_count": 32,
     "metadata": {},
     "output_type": "execute_result"
    }
   ],
   "source": [
    "my_list"
   ]
  },
  {
   "cell_type": "code",
   "execution_count": 33,
   "id": "b68da122",
   "metadata": {},
   "outputs": [],
   "source": [
    "# Arranging a list in ascending order\n",
    "\n",
    "list_2 = [1,4,2,5,7,4,0,9,8,3]\n",
    "list_2.sort()"
   ]
  },
  {
   "cell_type": "code",
   "execution_count": 34,
   "id": "d2e304a2",
   "metadata": {},
   "outputs": [
    {
     "name": "stdout",
     "output_type": "stream",
     "text": [
      "[0, 1, 2, 3, 4, 4, 5, 7, 8, 9]\n"
     ]
    }
   ],
   "source": [
    "print(list_2)"
   ]
  },
  {
   "cell_type": "code",
   "execution_count": 35,
   "id": "bf27955d",
   "metadata": {},
   "outputs": [
    {
     "name": "stdout",
     "output_type": "stream",
     "text": [
      "0\n"
     ]
    }
   ],
   "source": [
    "min_score = min(list_2)\n",
    "print(min_score)"
   ]
  },
  {
   "cell_type": "code",
   "execution_count": 36,
   "id": "271bd26c",
   "metadata": {},
   "outputs": [
    {
     "name": "stdout",
     "output_type": "stream",
     "text": [
      "9\n"
     ]
    }
   ],
   "source": [
    "max_score = max(list_2)\n",
    "print(max_score)"
   ]
  },
  {
   "cell_type": "code",
   "execution_count": 37,
   "id": "f562a47a",
   "metadata": {},
   "outputs": [
    {
     "data": {
      "text/plain": [
       "0"
      ]
     },
     "execution_count": 37,
     "metadata": {},
     "output_type": "execute_result"
    }
   ],
   "source": [
    "# list indexing/slicing operations\n",
    "\n",
    "# 1st element\n",
    "list_2[0]"
   ]
  },
  {
   "cell_type": "code",
   "execution_count": 38,
   "id": "78beb584",
   "metadata": {},
   "outputs": [
    {
     "data": {
      "text/plain": [
       "1"
      ]
     },
     "execution_count": 38,
     "metadata": {},
     "output_type": "execute_result"
    }
   ],
   "source": [
    "# second element\n",
    "list_2[1]"
   ]
  },
  {
   "cell_type": "code",
   "execution_count": 39,
   "id": "06f36c41",
   "metadata": {},
   "outputs": [
    {
     "data": {
      "text/plain": [
       "9"
      ]
     },
     "execution_count": 39,
     "metadata": {},
     "output_type": "execute_result"
    }
   ],
   "source": [
    "# last element\n",
    "list_2[-1]"
   ]
  },
  {
   "cell_type": "code",
   "execution_count": 41,
   "id": "4f5811aa",
   "metadata": {},
   "outputs": [
    {
     "data": {
      "text/plain": [
       "[0, 1, 2, 3, 4, 4, 5, 7, 8, 9]"
      ]
     },
     "execution_count": 41,
     "metadata": {},
     "output_type": "execute_result"
    }
   ],
   "source": [
    "list_2"
   ]
  },
  {
   "cell_type": "code",
   "execution_count": 40,
   "id": "f56c01dc",
   "metadata": {
    "scrolled": true
   },
   "outputs": [
    {
     "data": {
      "text/plain": [
       "[2, 3, 4]"
      ]
     },
     "execution_count": 40,
     "metadata": {},
     "output_type": "execute_result"
    }
   ],
   "source": [
    "list_2[2:5]"
   ]
  },
  {
   "cell_type": "code",
   "execution_count": 49,
   "id": "3c2c7904",
   "metadata": {},
   "outputs": [
    {
     "name": "stdout",
     "output_type": "stream",
     "text": [
      "[0, 12, 12, 1, 2, 3, 4, 4, 7, 8, 12, 9]\n"
     ]
    }
   ],
   "source": [
    "# using 'insert' to add 2 and 6\n",
    "\n",
    "list_2.insert(1,12)\n",
    "print(list_2)"
   ]
  },
  {
   "cell_type": "code",
   "execution_count": 53,
   "id": "a731e9b4",
   "metadata": {},
   "outputs": [
    {
     "data": {
      "text/plain": [
       "[0, 12, 12, 2, 3, 4, 4, 7, 8, 12, 9]"
      ]
     },
     "execution_count": 53,
     "metadata": {},
     "output_type": "execute_result"
    }
   ],
   "source": [
    "list_2"
   ]
  },
  {
   "cell_type": "code",
   "execution_count": 54,
   "id": "e8ebe630",
   "metadata": {},
   "outputs": [
    {
     "data": {
      "text/plain": [
       "3"
      ]
     },
     "execution_count": 54,
     "metadata": {},
     "output_type": "execute_result"
    }
   ],
   "source": [
    "# using 'pop' to remove an item from a specific index\n",
    "\n",
    "list_2.pop(4)"
   ]
  },
  {
   "cell_type": "code",
   "execution_count": 55,
   "id": "e53e7578",
   "metadata": {},
   "outputs": [],
   "source": [
    "# using 'clear' to remove all items on a list\n",
    "\n",
    "list_2.clear()"
   ]
  },
  {
   "cell_type": "code",
   "execution_count": 56,
   "id": "a7531252",
   "metadata": {},
   "outputs": [
    {
     "data": {
      "text/plain": [
       "[]"
      ]
     },
     "execution_count": 56,
     "metadata": {},
     "output_type": "execute_result"
    }
   ],
   "source": [
    "list_2"
   ]
  },
  {
   "cell_type": "code",
   "execution_count": 57,
   "id": "ac004eed",
   "metadata": {},
   "outputs": [],
   "source": [
    "#creating a new list\n",
    "\n",
    "list_3=[1,2,3,4,5,6,7,8,9]\n",
    "list_4 = ['3','4']"
   ]
  },
  {
   "cell_type": "code",
   "execution_count": 58,
   "id": "8c237a43",
   "metadata": {},
   "outputs": [],
   "source": [
    "# using 'extend' to join two lists together\n",
    "list_3.extend(list_4)"
   ]
  },
  {
   "cell_type": "code",
   "execution_count": 59,
   "id": "82454f55",
   "metadata": {},
   "outputs": [
    {
     "name": "stdout",
     "output_type": "stream",
     "text": [
      "list after extend(): [1, 2, 3, 4, 5, 6, 7, 8, 9, '3', '4']\n"
     ]
    }
   ],
   "source": [
    "# printing the outcome\n",
    "\n",
    "print('list after extend():',list_3)"
   ]
  },
  {
   "cell_type": "markdown",
   "id": "d0f42997",
   "metadata": {},
   "source": [
    "#  TUPLE"
   ]
  },
  {
   "cell_type": "code",
   "execution_count": 61,
   "id": "08746121",
   "metadata": {},
   "outputs": [
    {
     "name": "stdout",
     "output_type": "stream",
     "text": [
      "('Joyce', 'lionel', 'blessing')\n",
      "<class 'tuple'>\n"
     ]
    }
   ],
   "source": [
    "# creating a tuple\n",
    "\n",
    "tuple_1=('Joyce','lionel','blessing')\n",
    "print(tuple_1)\n",
    "print(type(tuple_1))"
   ]
  },
  {
   "cell_type": "code",
   "execution_count": 62,
   "id": "144d22f7",
   "metadata": {},
   "outputs": [
    {
     "name": "stdout",
     "output_type": "stream",
     "text": [
      "['Joyce', 'lionel', 'blessing']\n",
      "<class 'list'>\n"
     ]
    }
   ],
   "source": [
    "# converting a tuple to a list\n",
    "\n",
    "list_8=list(tuple_1)\n",
    "print(list_8)\n",
    "print(type(list_8))\n"
   ]
  },
  {
   "cell_type": "code",
   "execution_count": 63,
   "id": "2bca7d91",
   "metadata": {},
   "outputs": [
    {
     "name": "stdout",
     "output_type": "stream",
     "text": [
      "('Joyce', 'lionel', 'blessing')\n"
     ]
    }
   ],
   "source": [
    "# converting a list to a tuple\n",
    "\n",
    "tuple_1=tuple(list_8)\n",
    "print(tuple_1)"
   ]
  },
  {
   "cell_type": "markdown",
   "id": "174b274b",
   "metadata": {},
   "source": [
    "# SET"
   ]
  },
  {
   "cell_type": "code",
   "execution_count": 64,
   "id": "305ebec4",
   "metadata": {},
   "outputs": [
    {
     "name": "stdout",
     "output_type": "stream",
     "text": [
      "{'raspberries', 'blueberry', 'mango', 'strawberry', 'salt'}\n"
     ]
    }
   ],
   "source": [
    "fruits_1={'orange','mango','watermelon',\"salt\",'pear','avocado'}\n",
    "fruits_2={'strawberry','blueberry','pear','mango','raspberries', \"salt\"}\n",
    "fruits_2.discard(\"pear\")\n",
    "print(fruits_2)"
   ]
  },
  {
   "cell_type": "code",
   "execution_count": 65,
   "id": "43d5657a",
   "metadata": {},
   "outputs": [
    {
     "name": "stdout",
     "output_type": "stream",
     "text": [
      "{'pear', 'avocado', 'grains', 'watermelon', 'fruits_2', 'orange', 'mango', 'salt'}\n"
     ]
    }
   ],
   "source": [
    "# Using the update set operation\n",
    "# fruits_2=list(fruits_2)\n",
    "# print(fruits_2)\n",
    "\n",
    "fruits_1.update((\"fruits_2\", \"grains\",))\n",
    "print(fruits_1)"
   ]
  },
  {
   "cell_type": "code",
   "execution_count": 66,
   "id": "5bc2089c",
   "metadata": {},
   "outputs": [],
   "source": [
    "# Using the 'remove' set operation\n",
    "\n",
    "fruits_1.remove(\"orange\")"
   ]
  },
  {
   "cell_type": "code",
   "execution_count": 67,
   "id": "c3d5a4e4",
   "metadata": {},
   "outputs": [
    {
     "data": {
      "text/plain": [
       "{'avocado', 'fruits_2', 'grains', 'mango', 'pear', 'salt', 'watermelon'}"
      ]
     },
     "execution_count": 67,
     "metadata": {},
     "output_type": "execute_result"
    }
   ],
   "source": [
    "fruits_1"
   ]
  },
  {
   "cell_type": "code",
   "execution_count": 68,
   "id": "0471aec1",
   "metadata": {},
   "outputs": [
    {
     "data": {
      "text/plain": [
       "{'avocado',\n",
       " 'blueberry',\n",
       " 'fruits_2',\n",
       " 'grains',\n",
       " 'mango',\n",
       " 'pear',\n",
       " 'raspberries',\n",
       " 'salt',\n",
       " 'strawberry',\n",
       " 'watermelon'}"
      ]
     },
     "execution_count": 68,
     "metadata": {},
     "output_type": "execute_result"
    }
   ],
   "source": [
    "# using the 'union' set operation\n",
    "\n",
    "fruits_1.union(fruits_2)"
   ]
  },
  {
   "cell_type": "code",
   "execution_count": 69,
   "id": "4077ca0c",
   "metadata": {},
   "outputs": [
    {
     "data": {
      "text/plain": [
       "{'mango', 'salt'}"
      ]
     },
     "execution_count": 69,
     "metadata": {},
     "output_type": "execute_result"
    }
   ],
   "source": [
    "# using the 'intersection' set operations\n",
    "\n",
    "fruits_1.intersection(fruits_2)"
   ]
  },
  {
   "cell_type": "code",
   "execution_count": 70,
   "id": "f3788571",
   "metadata": {},
   "outputs": [
    {
     "data": {
      "text/plain": [
       "{'avocado', 'fruits_2', 'grains', 'pear', 'watermelon'}"
      ]
     },
     "execution_count": 70,
     "metadata": {},
     "output_type": "execute_result"
    }
   ],
   "source": [
    "# Using the 'difference' set operation\n",
    " \n",
    "fruits_1.difference(fruits_2)"
   ]
  },
  {
   "cell_type": "code",
   "execution_count": 71,
   "id": "d1f0373c",
   "metadata": {
    "scrolled": true
   },
   "outputs": [
    {
     "data": {
      "text/plain": [
       "{'avocado',\n",
       " 'blueberry',\n",
       " 'fruits_2',\n",
       " 'grains',\n",
       " 'pear',\n",
       " 'raspberries',\n",
       " 'strawberry',\n",
       " 'watermelon'}"
      ]
     },
     "execution_count": 71,
     "metadata": {},
     "output_type": "execute_result"
    }
   ],
   "source": [
    "# USING THE 'SYMMETRIC DIFFERENCE'\n",
    "\n",
    "fruits_1 ^ fruits_2"
   ]
  },
  {
   "cell_type": "code",
   "execution_count": 73,
   "id": "a0e03349",
   "metadata": {},
   "outputs": [],
   "source": [
    "a={2,3}\n",
    "b={9,8,7,0,2,3,4}"
   ]
  },
  {
   "cell_type": "code",
   "execution_count": 74,
   "id": "648cf83c",
   "metadata": {},
   "outputs": [
    {
     "data": {
      "text/plain": [
       "True"
      ]
     },
     "execution_count": 74,
     "metadata": {},
     "output_type": "execute_result"
    }
   ],
   "source": [
    "a.issubset(b)"
   ]
  },
  {
   "cell_type": "code",
   "execution_count": 75,
   "id": "ddf61a27",
   "metadata": {},
   "outputs": [
    {
     "data": {
      "text/plain": [
       "True"
      ]
     },
     "execution_count": 75,
     "metadata": {},
     "output_type": "execute_result"
    }
   ],
   "source": [
    "b.issuperset(a)"
   ]
  },
  {
   "cell_type": "code",
   "execution_count": 76,
   "id": "054d6dd6",
   "metadata": {},
   "outputs": [
    {
     "data": {
      "text/plain": [
       "False"
      ]
     },
     "execution_count": 76,
     "metadata": {},
     "output_type": "execute_result"
    }
   ],
   "source": [
    "a.isdisjoint(b)"
   ]
  }
 ],
 "metadata": {
  "kernelspec": {
   "display_name": "Python 3 (ipykernel)",
   "language": "python",
   "name": "python3"
  },
  "language_info": {
   "codemirror_mode": {
    "name": "ipython",
    "version": 3
   },
   "file_extension": ".py",
   "mimetype": "text/x-python",
   "name": "python",
   "nbconvert_exporter": "python",
   "pygments_lexer": "ipython3",
   "version": "3.11.4"
  }
 },
 "nbformat": 4,
 "nbformat_minor": 5
}
